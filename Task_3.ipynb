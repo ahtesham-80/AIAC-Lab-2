{
  "nbformat": 4,
  "nbformat_minor": 0,
  "metadata": {
    "colab": {
      "provenance": [],
      "authorship_tag": "ABX9TyNPkuE8dEsAEM/YPae326f3",
      "include_colab_link": true
    },
    "kernelspec": {
      "name": "python3",
      "display_name": "Python 3"
    },
    "language_info": {
      "name": "python"
    }
  },
  "cells": [
    {
      "cell_type": "markdown",
      "metadata": {
        "id": "view-in-github",
        "colab_type": "text"
      },
      "source": [
        "<a href=\"https://colab.research.google.com/github/ahtesham-80/AIAC-Lab-2/blob/main/Task_3.ipynb\" target=\"_parent\"><img src=\"https://colab.research.google.com/assets/colab-badge.svg\" alt=\"Open In Colab\"/></a>"
      ]
    },
    {
      "cell_type": "markdown",
      "source": [
        "Task Description#3\n",
        "●\tAsk Gemini to explain a Python function (to calculate area of various shapes) line by line..\n",
        "Expected Output#3\n",
        "●\tDetailed explanation with code snippet\n",
        "Prompt: create a Python function to calculate area of varios shapes and take input from the console.\n"
      ],
      "metadata": {
        "id": "rpfpE6eG5NWF"
      }
    },
    {
      "cell_type": "code",
      "source": [
        "import math\n",
        "\n",
        "def calculate_area(shape, dimensions):\n",
        "  \"\"\"\n",
        "  Calculates the area of various shapes.\n",
        "\n",
        "  Args:\n",
        "    shape: A string representing the shape (e.g., 'circle', 'square', 'rectangle', 'triangle').\n",
        "    dimensions: A dictionary containing the dimensions required for the shape's area calculation.\n",
        "\n",
        "  Returns:\n",
        "    The area of the shape, or None if the shape is not supported or dimensions are missing.\n",
        "  \"\"\"\n",
        "  if shape.lower() == 'circle':\n",
        "    if 'radius' in dimensions:\n",
        "      radius = dimensions['radius']\n",
        "      return math.pi * (radius ** 2)\n",
        "    else:\n",
        "      return None\n",
        "  elif shape.lower() == 'square':\n",
        "    if 'side' in dimensions:\n",
        "      side = dimensions['side']\n",
        "      return side * side\n",
        "    else:\n",
        "      return None\n",
        "  elif shape.lower() == 'rectangle':\n",
        "    if 'length' in dimensions and 'width' in dimensions:\n",
        "      length = dimensions['length']\n",
        "      width = dimensions['width']\n",
        "      return length * width\n",
        "    else:\n",
        "      return None\n",
        "  elif shape.lower() == 'triangle':\n",
        "    if 'base' in dimensions and 'height' in dimensions:\n",
        "      base = dimensions['base']\n",
        "      height = dimensions['height']\n",
        "      return 0.5 * base * height\n",
        "    else:\n",
        "      return None\n",
        "  else:\n",
        "    return None\n",
        "\n",
        "# Take input from the console\n",
        "shape_input = input(\"Enter the shape (circle, square, rectangle, triangle): \")\n",
        "dimensions_input = {}\n",
        "\n",
        "if shape_input.lower() == 'circle':\n",
        "  radius = float(input(\"Enter the radius: \"))\n",
        "  dimensions_input['radius'] = radius\n",
        "elif shape_input.lower() == 'square':\n",
        "  side = float(input(\"Enter the side length: \"))\n",
        "  dimensions_input['side'] = side\n",
        "elif shape_input.lower() == 'rectangle':\n",
        "  length = float(input(\"Enter the length: \"))\n",
        "  width = float(input(\"Enter the width: \"))\n",
        "  dimensions_input['length'] = length\n",
        "  dimensions_input['width'] = width\n",
        "elif shape_input.lower() == 'triangle':\n",
        "  base = float(input(\"Enter the base: \"))\n",
        "  height = float(input(\"Enter the height: \"))\n",
        "  dimensions_input['base'] = base\n",
        "  dimensions_input['height'] = height\n",
        "\n",
        "area = calculate_area(shape_input, dimensions_input)\n",
        "\n",
        "if area is not None:\n",
        "  print(f\"The area of the {shape_input} is: {area}\")\n",
        "else:\n",
        "  print(\"Invalid shape or dimensions provided.\")"
      ],
      "metadata": {
        "colab": {
          "base_uri": "https://localhost:8080/"
        },
        "id": "8o-T5c_u94_x",
        "outputId": "4e5e0a06-e6dc-471f-9f9e-df2428b89988"
      },
      "execution_count": 8,
      "outputs": [
        {
          "output_type": "stream",
          "name": "stdout",
          "text": [
            "Enter the shape (circle, square, rectangle, triangle): triangle\n",
            "Enter the base: 6\n",
            "Enter the height: 9\n",
            "The area of the triangle is: 27.0\n"
          ]
        }
      ]
    }
  ]
}